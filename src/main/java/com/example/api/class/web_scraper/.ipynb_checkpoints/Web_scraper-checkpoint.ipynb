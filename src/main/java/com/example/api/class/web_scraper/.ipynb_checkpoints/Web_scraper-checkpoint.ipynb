{
 "cells": [
  {
   "cell_type": "code",
   "execution_count": 4,
   "id": "f2348cff-b8dc-479e-bf72-1f912cc6d573",
   "metadata": {
    "tags": []
   },
   "outputs": [],
   "source": [
    "# ALL NECESSARY MODULES\n",
    "\n",
    "import requests\n",
    "from bs4 import BeautifulSoup\n",
    "import csv\n",
    "from flask import Flask\n",
    "\n",
    "# API specific imports (only necessary if doing on jupyter)\n",
    "\n",
    "from werkzeug.wrappers import Request, Response\n",
    "from werkzeug.serving import run_simple\n",
    "import json"
   ]
  },
  {
   "cell_type": "code",
   "execution_count": 6,
   "id": "af607a1c-bd2b-4c63-a3df-583092a149c5",
   "metadata": {
    "tags": []
   },
   "outputs": [],
   "source": [
    "# BASICS OF REQUESTS AND BEAUTIFUL SOUP\n",
    "\n",
    "\n",
    "url = \"https://en.wikipedia.org/wiki/Beautiful_Soup_(HTML_parser)\"\n",
    "\n",
    "response = requests.get(url)\n",
    "# print(BeautifulSoup(response.content,'html.parser'))\n",
    "\n",
    "soup = BeautifulSoup(response.content,'html.parser')\n",
    "\n",
    "# working with BeautifulSoup css selector (select)\n",
    "mainHeadings = soup.select('span.mw-headline')\n",
    "# print(mainHeadings)\n",
    "\n",
    "# using select to access elements with given class/id\n",
    "classBased = soup.select('h1.firstHeading')\n",
    "# print(classBased)\n",
    "idBased = soup.select('div#p-lang-btn')\n",
    "# print(idBased)"
   ]
  },
  {
   "cell_type": "code",
   "execution_count": 9,
   "id": "518be065-3c4b-4b51-9446-04c3194c41d9",
   "metadata": {
    "tags": []
   },
   "outputs": [],
   "source": [
    "# PREPROCESSING OF DATA BEFORE TRANSMISSION VIA API\n",
    "\n",
    "# looping over multiple items of a kind\n",
    "# this section has two objectives\n",
    "# 1. loop over all subheadings and create transmittable JSON object \n",
    "# 2. download it as a txt file\n",
    "\n",
    "# print(mainHeadings)\n",
    "\n",
    "# Objective 1. \n",
    "\n",
    "i = 1\n",
    "allheadings = {}\n",
    "key = f\"link{i}\"\n",
    "for heading in mainHeadings:\n",
    "    # print(heading)\n",
    "    \n",
    "    # Json creation by text extraction\n",
    "    headText = heading.text\n",
    "    allheadings[key] = headText\n",
    "    \n",
    "    # reassignment\n",
    "    i += 1\n",
    "    key = f\"link{i}\"\n",
    "    \n",
    "with open('./jsonText.txt', 'w') as f:\n",
    "    f.write(json.dumps(allheadings))\n",
    "\n",
    "# print(type(allheadings))\n",
    "# print(type(json.dumps(allheadings)))"
   ]
  }
 ],
 "metadata": {
  "celltoolbar": "Edit Metadata",
  "kernelspec": {
   "display_name": "Python 3 (ipykernel)",
   "language": "python",
   "name": "python3"
  },
  "language_info": {
   "codemirror_mode": {
    "name": "ipython",
    "version": 3
   },
   "file_extension": ".py",
   "mimetype": "text/x-python",
   "name": "python",
   "nbconvert_exporter": "python",
   "pygments_lexer": "ipython3",
   "version": "3.11.3"
  }
 },
 "nbformat": 4,
 "nbformat_minor": 5
}
