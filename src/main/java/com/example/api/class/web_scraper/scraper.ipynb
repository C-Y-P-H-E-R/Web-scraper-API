{
 "cells": [
  {
   "cell_type": "code",
   "execution_count": null,
   "id": "f2348cff-b8dc-479e-bf72-1f912cc6d573",
   "metadata": {
    "tags": []
   },
   "outputs": [],
   "source": [
    "# Scraper specific modules\n",
    "\n",
    "import requests\n",
    "from bs4 import BeautifulSoup\n",
    "import json"
   ]
  },
  {
   "cell_type": "code",
   "execution_count": null,
   "id": "af607a1c-bd2b-4c63-a3df-583092a149c5",
   "metadata": {
    "tags": []
   },
   "outputs": [],
   "source": [
    "url = \"https://en.wikipedia.org/wiki/Beautiful_Soup_(HTML_parser)\"\n",
    "\n",
    "# using requests to get page source code\n",
    "response = requests.get(url)\n",
    "\n",
    "# rearranging the code properly to make it more readable\n",
    "soup = BeautifulSoup(response.content,'html.parser')\n",
    "\n",
    "# using beautifulsoup's css selector \"select\" to search for span elements having class=\"mw-headline\"\n",
    "mainHeadings = soup.select('span.mw-headline')\n",
    "print(mainHeadings)\n",
    "\n",
    "# examples of class based and id based selection\n",
    "classBased = soup.select('h1.firstHeading')\n",
    "print(classBased)\n",
    "idBased = soup.select('div#p-lang-btn')\n",
    "print(idBased)"
   ]
  },
  {
   "cell_type": "code",
   "execution_count": null,
   "id": "518be065-3c4b-4b51-9446-04c3194c41d9",
   "metadata": {
    "tags": []
   },
   "outputs": [],
   "source": [
    "# this section has two objectives\n",
    "# 1. loop over all subheadings and create transmittable JSON object \n",
    "# 2. download it as a txt file\n",
    "\n",
    "# Objective 1. \n",
    "\n",
    "i = 1  # necessary to add keys\n",
    "allheadings = {}  # dictionary to hold all headlines\n",
    "key = f\"link{i}\"  # formatted string used to generate keys\n",
    "\n",
    "for heading in mainHeadings:\n",
    "    # print(heading)\n",
    "    \n",
    "    # Json creation by text extraction\n",
    "    headText = heading.text\n",
    "    allheadings[key] = headText\n",
    "    \n",
    "    # reassignment of variables\n",
    "    i += 1\n",
    "    key = f\"link{i}\"\n",
    "\n",
    "# objective 2.    \n",
    "with open('./jsonText.txt', 'w') as f:\n",
    "    f.write(json.dumps(allheadings))  #used json.dumps() to convert dictionary into a string before writing\n",
    "\n",
    "print(allheadings)    \n",
    "# print(type(allheadings))\n",
    "# print(type(json.dumps(allheadings)))"
   ]
  }
 ],
 "metadata": {
  "celltoolbar": "Edit Metadata",
  "kernelspec": {
   "display_name": "Python 3 (ipykernel)",
   "language": "python",
   "name": "python3"
  },
  "language_info": {
   "codemirror_mode": {
    "name": "ipython",
    "version": 3
   },
   "file_extension": ".py",
   "mimetype": "text/x-python",
   "name": "python",
   "nbconvert_exporter": "python",
   "pygments_lexer": "ipython3",
   "version": "3.11.3"
  }
 },
 "nbformat": 4,
 "nbformat_minor": 5
}
